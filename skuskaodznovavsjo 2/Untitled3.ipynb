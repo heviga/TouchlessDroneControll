{
 "cells": [
  {
   "cell_type": "code",
   "execution_count": 1,
   "id": "1c07db77-0d19-402f-aae0-276aa4ef4e58",
   "metadata": {},
   "outputs": [
    {
     "ename": "ModuleNotFoundError",
     "evalue": "No module named 'gi'",
     "output_type": "error",
     "traceback": [
      "\u001b[1;31m---------------------------------------------------------------------------\u001b[0m",
      "\u001b[1;31mModuleNotFoundError\u001b[0m                       Traceback (most recent call last)",
      "Cell \u001b[1;32mIn[1], line 1\u001b[0m\n\u001b[1;32m----> 1\u001b[0m \u001b[38;5;28;01mimport\u001b[39;00m \u001b[38;5;21;01mgi\u001b[39;00m\n\u001b[0;32m      2\u001b[0m gi\u001b[38;5;241m.\u001b[39mrequire_version(\u001b[38;5;124m'\u001b[39m\u001b[38;5;124mGst\u001b[39m\u001b[38;5;124m'\u001b[39m, \u001b[38;5;124m'\u001b[39m\u001b[38;5;124m1.0\u001b[39m\u001b[38;5;124m'\u001b[39m)\n\u001b[0;32m      3\u001b[0m \u001b[38;5;28;01mfrom\u001b[39;00m \u001b[38;5;21;01mgi\u001b[39;00m\u001b[38;5;21;01m.\u001b[39;00m\u001b[38;5;21;01mrepository\u001b[39;00m \u001b[38;5;28;01mimport\u001b[39;00m Gst\n",
      "\u001b[1;31mModuleNotFoundError\u001b[0m: No module named 'gi'"
     ]
    }
   ],
   "source": [
    "import gi\n",
    "gi.require_version('Gst', '1.0')\n",
    "from gi.repository import Gst\n",
    "import cv2\n",
    "from djitellopy import Tello\n",
    "\n",
    "# Initialize GStreamer\n",
    "Gst.init(None)\n",
    "\n",
    "# Create a GStreamer pipeline for video decoding\n",
    "pipeline = Gst.parse_launch(\"udpsrc port=11111 ! application/x-rtp, media=video, encoding-name=H264 ! rtph264depay ! h264parse ! avdec_h264 ! videoconvert ! autovideosink\")\n",
    "\n",
    "# Start the pipeline\n",
    "pipeline.set_state(Gst.State.PLAYING)\n",
    "\n",
    "tello = Tello()\n",
    "print(\"Connecting to Tello...\")\n",
    "tello.connect()\n",
    "print(\"Connected. Starting video stream...\")\n",
    "\n",
    "# Main loop for video capture\n",
    "while True:\n",
    "    # Capture a video frame\n",
    "    frame = pipeline.get(1)  # Get a frame (adjust the timeout as needed)\n",
    "\n",
    "    if frame is not None:\n",
    "        # Convert the frame to a format that OpenCV can work with\n",
    "        frame = cv2.cvtColor(frame, cv2.COLOR_RGB2BGR)\n",
    "\n",
    "        # Display the frame\n",
    "        cv2.imshow(\"Tello Frame\", frame)\n",
    "\n",
    "    # Check for key presses or other actions here\n",
    "\n",
    "    # Exit the loop on a key press (e.g., 'q')\n",
    "    key = cv2.waitKey(1)\n",
    "    if key == ord(\"q\"):\n",
    "        break\n",
    "\n",
    "# Stop the GStreamer pipeline\n",
    "pipeline.set_state(Gst.State.NULL)\n",
    "\n",
    "# Close the OpenCV window and release resources\n",
    "cv2.destroyAllWindows()\n"
   ]
  },
  {
   "cell_type": "code",
   "execution_count": 2,
   "id": "140ba0a1-76f8-48ef-b5f6-dd22ad599856",
   "metadata": {},
   "outputs": [
    {
     "ename": "SyntaxError",
     "evalue": "invalid syntax (285338008.py, line 1)",
     "output_type": "error",
     "traceback": [
      "\u001b[1;36m  Cell \u001b[1;32mIn[2], line 1\u001b[1;36m\u001b[0m\n\u001b[1;33m    sudo apt-get install gstreamer1.0-tools\u001b[0m\n\u001b[1;37m         ^\u001b[0m\n\u001b[1;31mSyntaxError\u001b[0m\u001b[1;31m:\u001b[0m invalid syntax\n"
     ]
    }
   ],
   "source": [
    "sudo apt-get install gstreamer1.0-tools\n",
    "sudo apt-get install python3-gi python3-gst-1.0\n"
   ]
  },
  {
   "cell_type": "code",
   "execution_count": 3,
   "id": "7be3e6a8-e256-4d14-9561-07956ae61066",
   "metadata": {},
   "outputs": [
    {
     "name": "stdout",
     "output_type": "stream",
     "text": [
      "Collecting ffmpeg-python\n",
      "  Downloading ffmpeg_python-0.2.0-py3-none-any.whl (25 kB)\n",
      "Collecting future (from ffmpeg-python)\n",
      "  Downloading future-0.18.3.tar.gz (840 kB)\n",
      "     ---------------------------------------- 0.0/840.9 kB ? eta -:--:--\n",
      "     - ------------------------------------- 41.0/840.9 kB 2.0 MB/s eta 0:00:01\n",
      "     -- ---------------------------------- 61.4/840.9 kB 825.8 kB/s eta 0:00:01\n",
      "     -- ---------------------------------- 61.4/840.9 kB 825.8 kB/s eta 0:00:01\n",
      "     -- ---------------------------------- 61.4/840.9 kB 825.8 kB/s eta 0:00:01\n",
      "     -- ---------------------------------- 61.4/840.9 kB 825.8 kB/s eta 0:00:01\n",
      "     -- ---------------------------------- 61.4/840.9 kB 825.8 kB/s eta 0:00:01\n",
      "     -- ---------------------------------- 61.4/840.9 kB 825.8 kB/s eta 0:00:01\n",
      "     -- ---------------------------------- 61.4/840.9 kB 825.8 kB/s eta 0:00:01\n",
      "     -- ---------------------------------- 61.4/840.9 kB 825.8 kB/s eta 0:00:01\n",
      "     -- ---------------------------------- 61.4/840.9 kB 825.8 kB/s eta 0:00:01\n",
      "     -- ---------------------------------- 61.4/840.9 kB 825.8 kB/s eta 0:00:01\n",
      "     -- ---------------------------------- 61.4/840.9 kB 825.8 kB/s eta 0:00:01\n",
      "     -- ---------------------------------- 61.4/840.9 kB 825.8 kB/s eta 0:00:01\n",
      "     -- ---------------------------------- 61.4/840.9 kB 825.8 kB/s eta 0:00:01\n",
      "     ---- ------------------------------- 112.6/840.9 kB 152.4 kB/s eta 0:00:05\n",
      "     ------ ----------------------------- 143.4/840.9 kB 193.8 kB/s eta 0:00:04\n",
      "     ------ ----------------------------- 143.4/840.9 kB 193.8 kB/s eta 0:00:04\n",
      "     ------ ----------------------------- 143.4/840.9 kB 193.8 kB/s eta 0:00:04\n",
      "     ------ ----------------------------- 143.4/840.9 kB 193.8 kB/s eta 0:00:04\n",
      "     --------- -------------------------- 225.3/840.9 kB 241.6 kB/s eta 0:00:03\n",
      "     --------- -------------------------- 225.3/840.9 kB 241.6 kB/s eta 0:00:03\n",
      "     --------- -------------------------- 225.3/840.9 kB 241.6 kB/s eta 0:00:03\n",
      "     --------- -------------------------- 225.3/840.9 kB 241.6 kB/s eta 0:00:03\n",
      "     --------- -------------------------- 225.3/840.9 kB 241.6 kB/s eta 0:00:03\n",
      "     --------- -------------------------- 225.3/840.9 kB 241.6 kB/s eta 0:00:03\n",
      "     --------- -------------------------- 225.3/840.9 kB 241.6 kB/s eta 0:00:03\n",
      "     --------- -------------------------- 225.3/840.9 kB 241.6 kB/s eta 0:00:03\n",
      "     --------- -------------------------- 225.3/840.9 kB 241.6 kB/s eta 0:00:03\n",
      "     --------- -------------------------- 225.3/840.9 kB 241.6 kB/s eta 0:00:03\n",
      "     --------- -------------------------- 225.3/840.9 kB 241.6 kB/s eta 0:00:03\n",
      "     --------- -------------------------- 225.3/840.9 kB 241.6 kB/s eta 0:00:03\n",
      "     --------- -------------------------- 225.3/840.9 kB 241.6 kB/s eta 0:00:03\n",
      "     ---------- ------------------------- 245.8/840.9 kB 162.1 kB/s eta 0:00:04\n",
      "     ------------ ----------------------- 286.7/840.9 kB 184.3 kB/s eta 0:00:04\n",
      "     ------------ ----------------------- 286.7/840.9 kB 184.3 kB/s eta 0:00:04\n",
      "     ------------ ----------------------- 286.7/840.9 kB 184.3 kB/s eta 0:00:04\n",
      "     ------------- ---------------------- 307.2/840.9 kB 181.1 kB/s eta 0:00:03\n",
      "     ------------- ---------------------- 307.2/840.9 kB 181.1 kB/s eta 0:00:03\n",
      "     -------------- --------------------- 327.7/840.9 kB 183.1 kB/s eta 0:00:03\n",
      "     -------------- --------------------- 327.7/840.9 kB 183.1 kB/s eta 0:00:03\n",
      "     --------------- -------------------- 358.4/840.9 kB 192.1 kB/s eta 0:00:03\n",
      "     --------------- -------------------- 358.4/840.9 kB 192.1 kB/s eta 0:00:03\n",
      "     --------------- -------------------- 358.4/840.9 kB 192.1 kB/s eta 0:00:03\n",
      "     --------------- -------------------- 358.4/840.9 kB 192.1 kB/s eta 0:00:03\n",
      "     ----------------- ------------------ 409.6/840.9 kB 202.8 kB/s eta 0:00:03\n",
      "     ----------------- ------------------ 409.6/840.9 kB 202.8 kB/s eta 0:00:03\n",
      "     ----------------- ------------------ 409.6/840.9 kB 202.8 kB/s eta 0:00:03\n",
      "     ------------------- ---------------- 450.6/840.9 kB 207.2 kB/s eta 0:00:02\n",
      "     ------------------- ---------------- 450.6/840.9 kB 207.2 kB/s eta 0:00:02\n",
      "     -------------------- --------------- 471.0/840.9 kB 212.2 kB/s eta 0:00:02\n",
      "     --------------------- -------------- 501.8/840.9 kB 220.0 kB/s eta 0:00:02\n",
      "     ----------------------- ------------ 553.0/840.9 kB 237.9 kB/s eta 0:00:02\n",
      "     ------------------------ ----------- 573.4/840.9 kB 241.9 kB/s eta 0:00:02\n",
      "     ------------------------ ----------- 573.4/840.9 kB 241.9 kB/s eta 0:00:02\n",
      "     ------------------------ ----------- 583.7/840.9 kB 241.4 kB/s eta 0:00:02\n",
      "     -------------------------- --------- 614.4/840.9 kB 246.3 kB/s eta 0:00:01\n",
      "     ---------------------------- ------- 675.8/840.9 kB 266.2 kB/s eta 0:00:01\n",
      "     ----------------------------- ------ 696.3/840.9 kB 269.4 kB/s eta 0:00:01\n",
      "     ----------------------------- ------ 696.3/840.9 kB 269.4 kB/s eta 0:00:01\n",
      "     -------------------------------- --- 747.5/840.9 kB 277.6 kB/s eta 0:00:01\n",
      "     --------------------------------- -- 778.2/840.9 kB 285.8 kB/s eta 0:00:01\n",
      "     -----------------------------------  829.4/840.9 kB 297.9 kB/s eta 0:00:01\n",
      "     ------------------------------------ 840.9/840.9 kB 302.1 kB/s eta 0:00:00\n",
      "  Preparing metadata (setup.py): started\n",
      "  Preparing metadata (setup.py): finished with status 'done'\n",
      "Building wheels for collected packages: future\n",
      "  Building wheel for future (setup.py): started\n",
      "  Building wheel for future (setup.py): finished with status 'done'\n",
      "  Created wheel for future: filename=future-0.18.3-py3-none-any.whl size=492054 sha256=4fc435d86b6dcc5d18b094ac02e1341d12dde0f60bad759316e241031d4035fb\n",
      "  Stored in directory: c:\\users\\ivadu\\appdata\\local\\pip\\cache\\wheels\\da\\19\\ca\\9d8c44cd311a955509d7e13da3f0bea42400c469ef825b580b\n",
      "Successfully built future\n",
      "Installing collected packages: future, ffmpeg-python\n",
      "Successfully installed ffmpeg-python-0.2.0 future-0.18.3\n",
      "Note: you may need to restart the kernel to use updated packages.\n"
     ]
    },
    {
     "name": "stderr",
     "output_type": "stream",
     "text": [
      "\n",
      "[notice] A new release of pip is available: 23.2.1 -> 23.3.1\n",
      "[notice] To update, run: python.exe -m pip install --upgrade pip\n"
     ]
    }
   ],
   "source": [
    "pip install ffmpeg-python\n"
   ]
  },
  {
   "cell_type": "code",
   "execution_count": null,
   "id": "109352e9-090c-4738-baa9-7a79c1dc3791",
   "metadata": {},
   "outputs": [],
   "source": [
    "python.exe -m pip install --upgrade pi"
   ]
  }
 ],
 "metadata": {
  "kernelspec": {
   "display_name": "Python 3 (ipykernel)",
   "language": "python",
   "name": "python3"
  },
  "language_info": {
   "codemirror_mode": {
    "name": "ipython",
    "version": 3
   },
   "file_extension": ".py",
   "mimetype": "text/x-python",
   "name": "python",
   "nbconvert_exporter": "python",
   "pygments_lexer": "ipython3",
   "version": "3.11.0"
  }
 },
 "nbformat": 4,
 "nbformat_minor": 5
}
